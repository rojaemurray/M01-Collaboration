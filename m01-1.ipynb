{
 "cells": [
  {
   "cell_type": "code",
   "execution_count": null,
   "metadata": {},
   "outputs": [],
   "source": [
    "# 3.1\n",
    "hour = 60 * 60\n",
    "# 3.2\n",
    "secconds_per_hour = hour\n",
    "# 3.3-4\n",
    "secconds_per_day = secconds_per_hour * 24\n",
    "# 3.5\n",
    "secconds_per_day / secconds_per_hour\n",
    "# 3.6\n",
    "secconds_per_day // secconds_per_hour"
   ]
  }
 ],
 "metadata": {
  "language_info": {
   "name": "python"
  },
  "orig_nbformat": 4
 },
 "nbformat": 4,
 "nbformat_minor": 2
}
